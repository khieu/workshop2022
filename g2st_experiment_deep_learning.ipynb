{
 "cells": [
  {
   "cell_type": "markdown",
   "metadata": {},
   "source": [
    "## Applying machine learning to number theory problem\n",
    "\n",
    "Sato-tate group classification problem:\n",
    "\n",
    "Given normalized Frobenius traces, is it possible to \n",
    "- determine whether Sato-Tate group  is USp(4)?\n",
    "- Extended problem: Classifying specific type of Sato-Tate group in the LMF (6 classes)\n",
    "\n",
    "#### Some applicable machine learning techniques\n",
    "- Multi-layer perceptron\n",
    "- Naive Bayes classification"
   ]
  },
  {
   "cell_type": "markdown",
   "metadata": {},
   "source": [
    "### Package requirements"
   ]
  },
  {
   "cell_type": "code",
   "execution_count": 1,
   "metadata": {},
   "outputs": [],
   "source": [
    "import numpy as np\n",
    "import json\n",
    "from sklearn import preprocessing\n",
    "import pandas as pd\n",
    "from sklearn.model_selection import train_test_split\n",
    "from torch.utils.data import Dataset\n",
    "import torch\n",
    "import torch.nn as nn"
   ]
  },
  {
   "cell_type": "markdown",
   "metadata": {},
   "source": [
    "### Processing data"
   ]
  },
  {
   "cell_type": "code",
   "execution_count": 34,
   "metadata": {},
   "outputs": [],
   "source": [
    "with open('./g2st.txt') as f:\n",
    "    data = [l for l in f.readlines()]"
   ]
  },
  {
   "cell_type": "code",
   "execution_count": 36,
   "metadata": {},
   "outputs": [
    {
     "data": {
      "text/plain": [
       "'1:[17,12,-28,-6,0,4,1]:12128818716:[1.414214,-1.133893,-0.603023,0.277350,-0.485071,0.229416,1.251086,0.742781,-0.538816,-0.164399,-0.457496,0.000000,1.098885,-0.260378,0.512148,0.977356,-0.712069,-2.340823,1.012579,2.634342,-1.059998,0.507673,2.189082,1.773593,1.160084,-0.095783,0.940721,0.266207,0.174741,-0.512615,-0.424094,0.819232,0.651031,-0.079809,-0.861586,-0.619059,0.456172,-0.149487,0.520306,-0.434145,-0.719816,0.427482,1.063322,-0.619586,-0.870544,0.000000,0.462573,0.131024,-0.258738,-1.223898,-0.126239,-2.370375,-1.233253,-1.219422,0.000000,-1.622273,-0.119310,0.059444,0.701047,-0.799022,-0.340229,0.169570,2.134293,0.384755,-0.817102,2.469409,1.231162,-0.212899,-1.477783,-0.104399,-0.673114,-2.003295,-0.919757,-0.405616,-0.250943,1.098628,-0.939490,1.465596,0.926003,-0.578020,1.681993,-0.381819,0.475114,0.283158,0.233890,1.490389,1.068901,-0.370196,1.096588,0.135943,1.083105,0.358129,1.605161,0.088648,-1.752432,-0.087454,1.418781,0.513083,-1.949083,-0.084290]\\n'"
      ]
     },
     "execution_count": 36,
     "metadata": {},
     "output_type": "execute_result"
    }
   ],
   "source": [
    "data[0]"
   ]
  },
  {
   "cell_type": "code",
   "execution_count": 5,
   "metadata": {},
   "outputs": [],
   "source": [
    "### preprocessing and Spliting data\n",
    "def split_data_train_test(data, long_input=True, normalized_data=True, test_size=0.2):\n",
    "    datapoints = [point.split(':') for point in data]\n",
    "    labels_data = [int(point[0]) for point in datapoints]\n",
    "    if long_input:\n",
    "        input_data = [json.loads(point[3]) for point in datapoints]\n",
    "    else:\n",
    "        input_data = [json.loads(point[1]) for point in datapoints]\n",
    "    input_data_pd = pd.DataFrame(input_data)\n",
    "    if not long_input:\n",
    "        input_data_pd[6] = input_data_pd[6].fillna(0)\n",
    "\n",
    "    if normalized_data:\n",
    "        input_data_pd = preprocessing.normalize(input_data_pd)\n",
    "        input_data_pd = pd.DataFrame(input_data_pd, columns=input_data_pd.columns)\n",
    "    \n",
    "    X = input_data_pd.to_numpy()\n",
    "\n",
    "    X_train, X_test, y_train, y_test = train_test_split(X, labels_data, test_size=0.2)\n",
    "    return X_train, X_test, y_train, y_test\n",
    "\n",
    "class PolynomialDataset(Dataset):\n",
    "    def __init__(self, X, Y):\n",
    "        self.input_data = X\n",
    "        self.labels = Y\n",
    "\n",
    "    def __len__(self):\n",
    "        return len(self.labels)\n",
    "\n",
    "    def __getitem__(self, idx):\n",
    "        return self.input_data[idx], self.labels[idx]"
   ]
  },
  {
   "cell_type": "markdown",
   "metadata": {},
   "source": [
    "### Creating dataset object"
   ]
  },
  {
   "cell_type": "code",
   "execution_count": 6,
   "metadata": {},
   "outputs": [],
   "source": [
    "X_train, X_test, y_train, y_test = split_data_train_test(data, normalized_data=False)"
   ]
  },
  {
   "cell_type": "code",
   "execution_count": 39,
   "metadata": {},
   "outputs": [
    {
     "data": {
      "text/plain": [
       "0"
      ]
     },
     "execution_count": 39,
     "metadata": {},
     "output_type": "execute_result"
    }
   ],
   "source": [
    "y_train[0]"
   ]
  },
  {
   "cell_type": "code",
   "execution_count": 29,
   "metadata": {},
   "outputs": [],
   "source": [
    "X_train = X_train.astype(np.float32)\n",
    "X_test = X_test.astype(np.float32)\n",
    "train_dataset = PolynomialDataset(X_train, y_train)\n",
    "test_dataset = PolynomialDataset(X_test, y_test)\n",
    "\n",
    "batch_size = 50\n",
    "n_iters = 20000\n",
    "num_epochs = n_iters / (len(train_dataset) / batch_size)\n",
    "num_epochs = int(num_epochs)\n",
    "\n",
    "train_loader = torch.utils.data.DataLoader(dataset=train_dataset, \n",
    "                                           batch_size=batch_size, \n",
    "                                           shuffle=True)\n",
    "\n",
    "test_loader = torch.utils.data.DataLoader(dataset=test_dataset, \n",
    "                                          batch_size=batch_size, \n",
    "                                          shuffle=False)"
   ]
  },
  {
   "cell_type": "code",
   "execution_count": 44,
   "metadata": {},
   "outputs": [
    {
     "data": {
      "image/svg+xml": [
       "<svg height=\"980\" style=\"cursor: move;\" width=\"1848\" xmlns=\"http://www.w3.org/2000/svg\"><g transform=\"translate(7.14001643450456,-32.70816295680913) scale(1.0538826938118742)\"><path class=\"link\" d=\"M657.3333333333333,400, 837.3333333333333,300\" marker-end=\"\" style=\"stroke-width: 0.5; stroke-opacity: 1; stroke: rgb(80, 80, 80);\"/><path class=\"link\" d=\"M657.3333333333333,400, 837.3333333333333,340\" marker-end=\"\" style=\"stroke-width: 0.5; stroke-opacity: 1; stroke: rgb(80, 80, 80);\"/><path class=\"link\" d=\"M657.3333333333333,400, 837.3333333333333,380\" marker-end=\"\" style=\"stroke-width: 0.5; stroke-opacity: 1; stroke: rgb(80, 80, 80);\"/><path class=\"link\" d=\"M657.3333333333333,400, 837.3333333333333,420\" marker-end=\"\" style=\"stroke-width: 0.5; stroke-opacity: 1; stroke: rgb(80, 80, 80);\"/><path class=\"link\" d=\"M657.3333333333333,400, 837.3333333333333,460\" marker-end=\"\" style=\"stroke-width: 0.5; stroke-opacity: 1; stroke: rgb(80, 80, 80);\"/><path class=\"link\" d=\"M657.3333333333333,400, 837.3333333333333,500\" marker-end=\"\" style=\"stroke-width: 0.5; stroke-opacity: 1; stroke: rgb(80, 80, 80);\"/><path class=\"link\" d=\"M657.3333333333333,400, 837.3333333333333,540\" marker-end=\"\" style=\"stroke-width: 0.5; stroke-opacity: 1; stroke: rgb(80, 80, 80);\"/><path class=\"link\" d=\"M657.3333333333333,400, 837.3333333333333,580\" marker-end=\"\" style=\"stroke-width: 0.5; stroke-opacity: 1; stroke: rgb(80, 80, 80);\"/><path class=\"link\" d=\"M657.3333333333333,400, 837.3333333333333,620\" marker-end=\"\" style=\"stroke-width: 0.5; stroke-opacity: 1; stroke: rgb(80, 80, 80);\"/><path class=\"link\" d=\"M657.3333333333333,400, 837.3333333333333,660\" marker-end=\"\" style=\"stroke-width: 0.5; stroke-opacity: 1; stroke: rgb(80, 80, 80);\"/><path class=\"link\" d=\"M657.3333333333333,440, 837.3333333333333,300\" marker-end=\"\" style=\"stroke-width: 0.5; stroke-opacity: 1; stroke: rgb(80, 80, 80);\"/><path class=\"link\" d=\"M657.3333333333333,440, 837.3333333333333,340\" marker-end=\"\" style=\"stroke-width: 0.5; stroke-opacity: 1; stroke: rgb(80, 80, 80);\"/><path class=\"link\" d=\"M657.3333333333333,440, 837.3333333333333,380\" marker-end=\"\" style=\"stroke-width: 0.5; stroke-opacity: 1; stroke: rgb(80, 80, 80);\"/><path class=\"link\" d=\"M657.3333333333333,440, 837.3333333333333,420\" marker-end=\"\" style=\"stroke-width: 0.5; stroke-opacity: 1; stroke: rgb(80, 80, 80);\"/><path class=\"link\" d=\"M657.3333333333333,440, 837.3333333333333,460\" marker-end=\"\" style=\"stroke-width: 0.5; stroke-opacity: 1; stroke: rgb(80, 80, 80);\"/><path class=\"link\" d=\"M657.3333333333333,440, 837.3333333333333,500\" marker-end=\"\" style=\"stroke-width: 0.5; stroke-opacity: 1; stroke: rgb(80, 80, 80);\"/><path class=\"link\" d=\"M657.3333333333333,440, 837.3333333333333,540\" marker-end=\"\" style=\"stroke-width: 0.5; stroke-opacity: 1; stroke: rgb(80, 80, 80);\"/><path class=\"link\" d=\"M657.3333333333333,440, 837.3333333333333,580\" marker-end=\"\" style=\"stroke-width: 0.5; stroke-opacity: 1; stroke: rgb(80, 80, 80);\"/><path class=\"link\" d=\"M657.3333333333333,440, 837.3333333333333,620\" marker-end=\"\" style=\"stroke-width: 0.5; stroke-opacity: 1; stroke: rgb(80, 80, 80);\"/><path class=\"link\" d=\"M657.3333333333333,440, 837.3333333333333,660\" marker-end=\"\" style=\"stroke-width: 0.5; stroke-opacity: 1; stroke: rgb(80, 80, 80);\"/><path class=\"link\" d=\"M657.3333333333333,480, 837.3333333333333,300\" marker-end=\"\" style=\"stroke-width: 0.5; stroke-opacity: 1; stroke: rgb(80, 80, 80);\"/><path class=\"link\" d=\"M657.3333333333333,480, 837.3333333333333,340\" marker-end=\"\" style=\"stroke-width: 0.5; stroke-opacity: 1; stroke: rgb(80, 80, 80);\"/><path class=\"link\" d=\"M657.3333333333333,480, 837.3333333333333,380\" marker-end=\"\" style=\"stroke-width: 0.5; stroke-opacity: 1; stroke: rgb(80, 80, 80);\"/><path class=\"link\" d=\"M657.3333333333333,480, 837.3333333333333,420\" marker-end=\"\" style=\"stroke-width: 0.5; stroke-opacity: 1; stroke: rgb(80, 80, 80);\"/><path class=\"link\" d=\"M657.3333333333333,480, 837.3333333333333,460\" marker-end=\"\" style=\"stroke-width: 0.5; stroke-opacity: 1; stroke: rgb(80, 80, 80);\"/><path class=\"link\" d=\"M657.3333333333333,480, 837.3333333333333,500\" marker-end=\"\" style=\"stroke-width: 0.5; stroke-opacity: 1; stroke: rgb(80, 80, 80);\"/><path class=\"link\" d=\"M657.3333333333333,480, 837.3333333333333,540\" marker-end=\"\" style=\"stroke-width: 0.5; stroke-opacity: 1; stroke: rgb(80, 80, 80);\"/><path class=\"link\" d=\"M657.3333333333333,480, 837.3333333333333,580\" marker-end=\"\" style=\"stroke-width: 0.5; stroke-opacity: 1; stroke: rgb(80, 80, 80);\"/><path class=\"link\" d=\"M657.3333333333333,480, 837.3333333333333,620\" marker-end=\"\" style=\"stroke-width: 0.5; stroke-opacity: 1; stroke: rgb(80, 80, 80);\"/><path class=\"link\" d=\"M657.3333333333333,480, 837.3333333333333,660\" marker-end=\"\" style=\"stroke-width: 0.5; stroke-opacity: 1; stroke: rgb(80, 80, 80);\"/><path class=\"link\" d=\"M657.3333333333333,520, 837.3333333333333,300\" marker-end=\"\" style=\"stroke-width: 0.5; stroke-opacity: 1; stroke: rgb(80, 80, 80);\"/><path class=\"link\" d=\"M657.3333333333333,520, 837.3333333333333,340\" marker-end=\"\" style=\"stroke-width: 0.5; stroke-opacity: 1; stroke: rgb(80, 80, 80);\"/><path class=\"link\" d=\"M657.3333333333333,520, 837.3333333333333,380\" marker-end=\"\" style=\"stroke-width: 0.5; stroke-opacity: 1; stroke: rgb(80, 80, 80);\"/><path class=\"link\" d=\"M657.3333333333333,520, 837.3333333333333,420\" marker-end=\"\" style=\"stroke-width: 0.5; stroke-opacity: 1; stroke: rgb(80, 80, 80);\"/><path class=\"link\" d=\"M657.3333333333333,520, 837.3333333333333,460\" marker-end=\"\" style=\"stroke-width: 0.5; stroke-opacity: 1; stroke: rgb(80, 80, 80);\"/><path class=\"link\" d=\"M657.3333333333333,520, 837.3333333333333,500\" marker-end=\"\" style=\"stroke-width: 0.5; stroke-opacity: 1; stroke: rgb(80, 80, 80);\"/><path class=\"link\" d=\"M657.3333333333333,520, 837.3333333333333,540\" marker-end=\"\" style=\"stroke-width: 0.5; stroke-opacity: 1; stroke: rgb(80, 80, 80);\"/><path class=\"link\" d=\"M657.3333333333333,520, 837.3333333333333,580\" marker-end=\"\" style=\"stroke-width: 0.5; stroke-opacity: 1; stroke: rgb(80, 80, 80);\"/><path class=\"link\" d=\"M657.3333333333333,520, 837.3333333333333,620\" marker-end=\"\" style=\"stroke-width: 0.5; stroke-opacity: 1; stroke: rgb(80, 80, 80);\"/><path class=\"link\" d=\"M657.3333333333333,520, 837.3333333333333,660\" marker-end=\"\" style=\"stroke-width: 0.5; stroke-opacity: 1; stroke: rgb(80, 80, 80);\"/><path class=\"link\" d=\"M657.3333333333333,560, 837.3333333333333,300\" marker-end=\"\" style=\"stroke-width: 0.5; stroke-opacity: 1; stroke: rgb(80, 80, 80);\"/><path class=\"link\" d=\"M657.3333333333333,560, 837.3333333333333,340\" marker-end=\"\" style=\"stroke-width: 0.5; stroke-opacity: 1; stroke: rgb(80, 80, 80);\"/><path class=\"link\" d=\"M657.3333333333333,560, 837.3333333333333,380\" marker-end=\"\" style=\"stroke-width: 0.5; stroke-opacity: 1; stroke: rgb(80, 80, 80);\"/><path class=\"link\" d=\"M657.3333333333333,560, 837.3333333333333,420\" marker-end=\"\" style=\"stroke-width: 0.5; stroke-opacity: 1; stroke: rgb(80, 80, 80);\"/><path class=\"link\" d=\"M657.3333333333333,560, 837.3333333333333,460\" marker-end=\"\" style=\"stroke-width: 0.5; stroke-opacity: 1; stroke: rgb(80, 80, 80);\"/><path class=\"link\" d=\"M657.3333333333333,560, 837.3333333333333,500\" marker-end=\"\" style=\"stroke-width: 0.5; stroke-opacity: 1; stroke: rgb(80, 80, 80);\"/><path class=\"link\" d=\"M657.3333333333333,560, 837.3333333333333,540\" marker-end=\"\" style=\"stroke-width: 0.5; stroke-opacity: 1; stroke: rgb(80, 80, 80);\"/><path class=\"link\" d=\"M657.3333333333333,560, 837.3333333333333,580\" marker-end=\"\" style=\"stroke-width: 0.5; stroke-opacity: 1; stroke: rgb(80, 80, 80);\"/><path class=\"link\" d=\"M657.3333333333333,560, 837.3333333333333,620\" marker-end=\"\" style=\"stroke-width: 0.5; stroke-opacity: 1; stroke: rgb(80, 80, 80);\"/><path class=\"link\" d=\"M657.3333333333333,560, 837.3333333333333,660\" marker-end=\"\" style=\"stroke-width: 0.5; stroke-opacity: 1; stroke: rgb(80, 80, 80);\"/><path class=\"link\" d=\"M837.3333333333333,300, 1017.3333333333333,300\" marker-end=\"\" style=\"stroke-width: 0.5; stroke-opacity: 1; stroke: rgb(80, 80, 80);\"/><path class=\"link\" d=\"M837.3333333333333,300, 1017.3333333333333,340\" marker-end=\"\" style=\"stroke-width: 0.5; stroke-opacity: 1; stroke: rgb(80, 80, 80);\"/><path class=\"link\" d=\"M837.3333333333333,300, 1017.3333333333333,380\" marker-end=\"\" style=\"stroke-width: 0.5; stroke-opacity: 1; stroke: rgb(80, 80, 80);\"/><path class=\"link\" d=\"M837.3333333333333,300, 1017.3333333333333,420\" marker-end=\"\" style=\"stroke-width: 0.5; stroke-opacity: 1; stroke: rgb(80, 80, 80);\"/><path class=\"link\" d=\"M837.3333333333333,300, 1017.3333333333333,460\" marker-end=\"\" style=\"stroke-width: 0.5; stroke-opacity: 1; stroke: rgb(80, 80, 80);\"/><path class=\"link\" d=\"M837.3333333333333,300, 1017.3333333333333,500\" marker-end=\"\" style=\"stroke-width: 0.5; stroke-opacity: 1; stroke: rgb(80, 80, 80);\"/><path class=\"link\" d=\"M837.3333333333333,300, 1017.3333333333333,540\" marker-end=\"\" style=\"stroke-width: 0.5; stroke-opacity: 1; stroke: rgb(80, 80, 80);\"/><path class=\"link\" d=\"M837.3333333333333,300, 1017.3333333333333,580\" marker-end=\"\" style=\"stroke-width: 0.5; stroke-opacity: 1; stroke: rgb(80, 80, 80);\"/><path class=\"link\" d=\"M837.3333333333333,300, 1017.3333333333333,620\" marker-end=\"\" style=\"stroke-width: 0.5; stroke-opacity: 1; stroke: rgb(80, 80, 80);\"/><path class=\"link\" d=\"M837.3333333333333,300, 1017.3333333333333,660\" marker-end=\"\" style=\"stroke-width: 0.5; stroke-opacity: 1; stroke: rgb(80, 80, 80);\"/><path class=\"link\" d=\"M837.3333333333333,340, 1017.3333333333333,300\" marker-end=\"\" style=\"stroke-width: 0.5; stroke-opacity: 1; stroke: rgb(80, 80, 80);\"/><path class=\"link\" d=\"M837.3333333333333,340, 1017.3333333333333,340\" marker-end=\"\" style=\"stroke-width: 0.5; stroke-opacity: 1; stroke: rgb(80, 80, 80);\"/><path class=\"link\" d=\"M837.3333333333333,340, 1017.3333333333333,380\" marker-end=\"\" style=\"stroke-width: 0.5; stroke-opacity: 1; stroke: rgb(80, 80, 80);\"/><path class=\"link\" d=\"M837.3333333333333,340, 1017.3333333333333,420\" marker-end=\"\" style=\"stroke-width: 0.5; stroke-opacity: 1; stroke: rgb(80, 80, 80);\"/><path class=\"link\" d=\"M837.3333333333333,340, 1017.3333333333333,460\" marker-end=\"\" style=\"stroke-width: 0.5; stroke-opacity: 1; stroke: rgb(80, 80, 80);\"/><path class=\"link\" d=\"M837.3333333333333,340, 1017.3333333333333,500\" marker-end=\"\" style=\"stroke-width: 0.5; stroke-opacity: 1; stroke: rgb(80, 80, 80);\"/><path class=\"link\" d=\"M837.3333333333333,340, 1017.3333333333333,540\" marker-end=\"\" style=\"stroke-width: 0.5; stroke-opacity: 1; stroke: rgb(80, 80, 80);\"/><path class=\"link\" d=\"M837.3333333333333,340, 1017.3333333333333,580\" marker-end=\"\" style=\"stroke-width: 0.5; stroke-opacity: 1; stroke: rgb(80, 80, 80);\"/><path class=\"link\" d=\"M837.3333333333333,340, 1017.3333333333333,620\" marker-end=\"\" style=\"stroke-width: 0.5; stroke-opacity: 1; stroke: rgb(80, 80, 80);\"/><path class=\"link\" d=\"M837.3333333333333,340, 1017.3333333333333,660\" marker-end=\"\" style=\"stroke-width: 0.5; stroke-opacity: 1; stroke: rgb(80, 80, 80);\"/><path class=\"link\" d=\"M837.3333333333333,380, 1017.3333333333333,300\" marker-end=\"\" style=\"stroke-width: 0.5; stroke-opacity: 1; stroke: rgb(80, 80, 80);\"/><path class=\"link\" d=\"M837.3333333333333,380, 1017.3333333333333,340\" marker-end=\"\" style=\"stroke-width: 0.5; stroke-opacity: 1; stroke: rgb(80, 80, 80);\"/><path class=\"link\" d=\"M837.3333333333333,380, 1017.3333333333333,380\" marker-end=\"\" style=\"stroke-width: 0.5; stroke-opacity: 1; stroke: rgb(80, 80, 80);\"/><path class=\"link\" d=\"M837.3333333333333,380, 1017.3333333333333,420\" marker-end=\"\" style=\"stroke-width: 0.5; stroke-opacity: 1; stroke: rgb(80, 80, 80);\"/><path class=\"link\" d=\"M837.3333333333333,380, 1017.3333333333333,460\" marker-end=\"\" style=\"stroke-width: 0.5; stroke-opacity: 1; stroke: rgb(80, 80, 80);\"/><path class=\"link\" d=\"M837.3333333333333,380, 1017.3333333333333,500\" marker-end=\"\" style=\"stroke-width: 0.5; stroke-opacity: 1; stroke: rgb(80, 80, 80);\"/><path class=\"link\" d=\"M837.3333333333333,380, 1017.3333333333333,540\" marker-end=\"\" style=\"stroke-width: 0.5; stroke-opacity: 1; stroke: rgb(80, 80, 80);\"/><path class=\"link\" d=\"M837.3333333333333,380, 1017.3333333333333,580\" marker-end=\"\" style=\"stroke-width: 0.5; stroke-opacity: 1; stroke: rgb(80, 80, 80);\"/><path class=\"link\" d=\"M837.3333333333333,380, 1017.3333333333333,620\" marker-end=\"\" style=\"stroke-width: 0.5; stroke-opacity: 1; stroke: rgb(80, 80, 80);\"/><path class=\"link\" d=\"M837.3333333333333,380, 1017.3333333333333,660\" marker-end=\"\" style=\"stroke-width: 0.5; stroke-opacity: 1; stroke: rgb(80, 80, 80);\"/><path class=\"link\" d=\"M837.3333333333333,420, 1017.3333333333333,300\" marker-end=\"\" style=\"stroke-width: 0.5; stroke-opacity: 1; stroke: rgb(80, 80, 80);\"/><path class=\"link\" d=\"M837.3333333333333,420, 1017.3333333333333,340\" marker-end=\"\" style=\"stroke-width: 0.5; stroke-opacity: 1; stroke: rgb(80, 80, 80);\"/><path class=\"link\" d=\"M837.3333333333333,420, 1017.3333333333333,380\" marker-end=\"\" style=\"stroke-width: 0.5; stroke-opacity: 1; stroke: rgb(80, 80, 80);\"/><path class=\"link\" d=\"M837.3333333333333,420, 1017.3333333333333,420\" marker-end=\"\" style=\"stroke-width: 0.5; stroke-opacity: 1; stroke: rgb(80, 80, 80);\"/><path class=\"link\" d=\"M837.3333333333333,420, 1017.3333333333333,460\" marker-end=\"\" style=\"stroke-width: 0.5; stroke-opacity: 1; stroke: rgb(80, 80, 80);\"/><path class=\"link\" d=\"M837.3333333333333,420, 1017.3333333333333,500\" marker-end=\"\" style=\"stroke-width: 0.5; stroke-opacity: 1; stroke: rgb(80, 80, 80);\"/><path class=\"link\" d=\"M837.3333333333333,420, 1017.3333333333333,540\" marker-end=\"\" style=\"stroke-width: 0.5; stroke-opacity: 1; stroke: rgb(80, 80, 80);\"/><path class=\"link\" d=\"M837.3333333333333,420, 1017.3333333333333,580\" marker-end=\"\" style=\"stroke-width: 0.5; stroke-opacity: 1; stroke: rgb(80, 80, 80);\"/><path class=\"link\" d=\"M837.3333333333333,420, 1017.3333333333333,620\" marker-end=\"\" style=\"stroke-width: 0.5; stroke-opacity: 1; stroke: rgb(80, 80, 80);\"/><path class=\"link\" d=\"M837.3333333333333,420, 1017.3333333333333,660\" marker-end=\"\" style=\"stroke-width: 0.5; stroke-opacity: 1; stroke: rgb(80, 80, 80);\"/><path class=\"link\" d=\"M837.3333333333333,460, 1017.3333333333333,300\" marker-end=\"\" style=\"stroke-width: 0.5; stroke-opacity: 1; stroke: rgb(80, 80, 80);\"/><path class=\"link\" d=\"M837.3333333333333,460, 1017.3333333333333,340\" marker-end=\"\" style=\"stroke-width: 0.5; stroke-opacity: 1; stroke: rgb(80, 80, 80);\"/><path class=\"link\" d=\"M837.3333333333333,460, 1017.3333333333333,380\" marker-end=\"\" style=\"stroke-width: 0.5; stroke-opacity: 1; stroke: rgb(80, 80, 80);\"/><path class=\"link\" d=\"M837.3333333333333,460, 1017.3333333333333,420\" marker-end=\"\" style=\"stroke-width: 0.5; stroke-opacity: 1; stroke: rgb(80, 80, 80);\"/><path class=\"link\" d=\"M837.3333333333333,460, 1017.3333333333333,460\" marker-end=\"\" style=\"stroke-width: 0.5; stroke-opacity: 1; stroke: rgb(80, 80, 80);\"/><path class=\"link\" d=\"M837.3333333333333,460, 1017.3333333333333,500\" marker-end=\"\" style=\"stroke-width: 0.5; stroke-opacity: 1; stroke: rgb(80, 80, 80);\"/><path class=\"link\" d=\"M837.3333333333333,460, 1017.3333333333333,540\" marker-end=\"\" style=\"stroke-width: 0.5; stroke-opacity: 1; stroke: rgb(80, 80, 80);\"/><path class=\"link\" d=\"M837.3333333333333,460, 1017.3333333333333,580\" marker-end=\"\" style=\"stroke-width: 0.5; stroke-opacity: 1; stroke: rgb(80, 80, 80);\"/><path class=\"link\" d=\"M837.3333333333333,460, 1017.3333333333333,620\" marker-end=\"\" style=\"stroke-width: 0.5; stroke-opacity: 1; stroke: rgb(80, 80, 80);\"/><path class=\"link\" d=\"M837.3333333333333,460, 1017.3333333333333,660\" marker-end=\"\" style=\"stroke-width: 0.5; stroke-opacity: 1; stroke: rgb(80, 80, 80);\"/><path class=\"link\" d=\"M837.3333333333333,500, 1017.3333333333333,300\" marker-end=\"\" style=\"stroke-width: 0.5; stroke-opacity: 1; stroke: rgb(80, 80, 80);\"/><path class=\"link\" d=\"M837.3333333333333,500, 1017.3333333333333,340\" marker-end=\"\" style=\"stroke-width: 0.5; stroke-opacity: 1; stroke: rgb(80, 80, 80);\"/><path class=\"link\" d=\"M837.3333333333333,500, 1017.3333333333333,380\" marker-end=\"\" style=\"stroke-width: 0.5; stroke-opacity: 1; stroke: rgb(80, 80, 80);\"/><path class=\"link\" d=\"M837.3333333333333,500, 1017.3333333333333,420\" marker-end=\"\" style=\"stroke-width: 0.5; stroke-opacity: 1; stroke: rgb(80, 80, 80);\"/><path class=\"link\" d=\"M837.3333333333333,500, 1017.3333333333333,460\" marker-end=\"\" style=\"stroke-width: 0.5; stroke-opacity: 1; stroke: rgb(80, 80, 80);\"/><path class=\"link\" d=\"M837.3333333333333,500, 1017.3333333333333,500\" marker-end=\"\" style=\"stroke-width: 0.5; stroke-opacity: 1; stroke: rgb(80, 80, 80);\"/><path class=\"link\" d=\"M837.3333333333333,500, 1017.3333333333333,540\" marker-end=\"\" style=\"stroke-width: 0.5; stroke-opacity: 1; stroke: rgb(80, 80, 80);\"/><path class=\"link\" d=\"M837.3333333333333,500, 1017.3333333333333,580\" marker-end=\"\" style=\"stroke-width: 0.5; stroke-opacity: 1; stroke: rgb(80, 80, 80);\"/><path class=\"link\" d=\"M837.3333333333333,500, 1017.3333333333333,620\" marker-end=\"\" style=\"stroke-width: 0.5; stroke-opacity: 1; stroke: rgb(80, 80, 80);\"/><path class=\"link\" d=\"M837.3333333333333,500, 1017.3333333333333,660\" marker-end=\"\" style=\"stroke-width: 0.5; stroke-opacity: 1; stroke: rgb(80, 80, 80);\"/><path class=\"link\" d=\"M837.3333333333333,540, 1017.3333333333333,300\" marker-end=\"\" style=\"stroke-width: 0.5; stroke-opacity: 1; stroke: rgb(80, 80, 80);\"/><path class=\"link\" d=\"M837.3333333333333,540, 1017.3333333333333,340\" marker-end=\"\" style=\"stroke-width: 0.5; stroke-opacity: 1; stroke: rgb(80, 80, 80);\"/><path class=\"link\" d=\"M837.3333333333333,540, 1017.3333333333333,380\" marker-end=\"\" style=\"stroke-width: 0.5; stroke-opacity: 1; stroke: rgb(80, 80, 80);\"/><path class=\"link\" d=\"M837.3333333333333,540, 1017.3333333333333,420\" marker-end=\"\" style=\"stroke-width: 0.5; stroke-opacity: 1; stroke: rgb(80, 80, 80);\"/><path class=\"link\" d=\"M837.3333333333333,540, 1017.3333333333333,460\" marker-end=\"\" style=\"stroke-width: 0.5; stroke-opacity: 1; stroke: rgb(80, 80, 80);\"/><path class=\"link\" d=\"M837.3333333333333,540, 1017.3333333333333,500\" marker-end=\"\" style=\"stroke-width: 0.5; stroke-opacity: 1; stroke: rgb(80, 80, 80);\"/><path class=\"link\" d=\"M837.3333333333333,540, 1017.3333333333333,540\" marker-end=\"\" style=\"stroke-width: 0.5; stroke-opacity: 1; stroke: rgb(80, 80, 80);\"/><path class=\"link\" d=\"M837.3333333333333,540, 1017.3333333333333,580\" marker-end=\"\" style=\"stroke-width: 0.5; stroke-opacity: 1; stroke: rgb(80, 80, 80);\"/><path class=\"link\" d=\"M837.3333333333333,540, 1017.3333333333333,620\" marker-end=\"\" style=\"stroke-width: 0.5; stroke-opacity: 1; stroke: rgb(80, 80, 80);\"/><path class=\"link\" d=\"M837.3333333333333,540, 1017.3333333333333,660\" marker-end=\"\" style=\"stroke-width: 0.5; stroke-opacity: 1; stroke: rgb(80, 80, 80);\"/><path class=\"link\" d=\"M837.3333333333333,580, 1017.3333333333333,300\" marker-end=\"\" style=\"stroke-width: 0.5; stroke-opacity: 1; stroke: rgb(80, 80, 80);\"/><path class=\"link\" d=\"M837.3333333333333,580, 1017.3333333333333,340\" marker-end=\"\" style=\"stroke-width: 0.5; stroke-opacity: 1; stroke: rgb(80, 80, 80);\"/><path class=\"link\" d=\"M837.3333333333333,580, 1017.3333333333333,380\" marker-end=\"\" style=\"stroke-width: 0.5; stroke-opacity: 1; stroke: rgb(80, 80, 80);\"/><path class=\"link\" d=\"M837.3333333333333,580, 1017.3333333333333,420\" marker-end=\"\" style=\"stroke-width: 0.5; stroke-opacity: 1; stroke: rgb(80, 80, 80);\"/><path class=\"link\" d=\"M837.3333333333333,580, 1017.3333333333333,460\" marker-end=\"\" style=\"stroke-width: 0.5; stroke-opacity: 1; stroke: rgb(80, 80, 80);\"/><path class=\"link\" d=\"M837.3333333333333,580, 1017.3333333333333,500\" marker-end=\"\" style=\"stroke-width: 0.5; stroke-opacity: 1; stroke: rgb(80, 80, 80);\"/><path class=\"link\" d=\"M837.3333333333333,580, 1017.3333333333333,540\" marker-end=\"\" style=\"stroke-width: 0.5; stroke-opacity: 1; stroke: rgb(80, 80, 80);\"/><path class=\"link\" d=\"M837.3333333333333,580, 1017.3333333333333,580\" marker-end=\"\" style=\"stroke-width: 0.5; stroke-opacity: 1; stroke: rgb(80, 80, 80);\"/><path class=\"link\" d=\"M837.3333333333333,580, 1017.3333333333333,620\" marker-end=\"\" style=\"stroke-width: 0.5; stroke-opacity: 1; stroke: rgb(80, 80, 80);\"/><path class=\"link\" d=\"M837.3333333333333,580, 1017.3333333333333,660\" marker-end=\"\" style=\"stroke-width: 0.5; stroke-opacity: 1; stroke: rgb(80, 80, 80);\"/><path class=\"link\" d=\"M837.3333333333333,620, 1017.3333333333333,300\" marker-end=\"\" style=\"stroke-width: 0.5; stroke-opacity: 1; stroke: rgb(80, 80, 80);\"/><path class=\"link\" d=\"M837.3333333333333,620, 1017.3333333333333,340\" marker-end=\"\" style=\"stroke-width: 0.5; stroke-opacity: 1; stroke: rgb(80, 80, 80);\"/><path class=\"link\" d=\"M837.3333333333333,620, 1017.3333333333333,380\" marker-end=\"\" style=\"stroke-width: 0.5; stroke-opacity: 1; stroke: rgb(80, 80, 80);\"/><path class=\"link\" d=\"M837.3333333333333,620, 1017.3333333333333,420\" marker-end=\"\" style=\"stroke-width: 0.5; stroke-opacity: 1; stroke: rgb(80, 80, 80);\"/><path class=\"link\" d=\"M837.3333333333333,620, 1017.3333333333333,460\" marker-end=\"\" style=\"stroke-width: 0.5; stroke-opacity: 1; stroke: rgb(80, 80, 80);\"/><path class=\"link\" d=\"M837.3333333333333,620, 1017.3333333333333,500\" marker-end=\"\" style=\"stroke-width: 0.5; stroke-opacity: 1; stroke: rgb(80, 80, 80);\"/><path class=\"link\" d=\"M837.3333333333333,620, 1017.3333333333333,540\" marker-end=\"\" style=\"stroke-width: 0.5; stroke-opacity: 1; stroke: rgb(80, 80, 80);\"/><path class=\"link\" d=\"M837.3333333333333,620, 1017.3333333333333,580\" marker-end=\"\" style=\"stroke-width: 0.5; stroke-opacity: 1; stroke: rgb(80, 80, 80);\"/><path class=\"link\" d=\"M837.3333333333333,620, 1017.3333333333333,620\" marker-end=\"\" style=\"stroke-width: 0.5; stroke-opacity: 1; stroke: rgb(80, 80, 80);\"/><path class=\"link\" d=\"M837.3333333333333,620, 1017.3333333333333,660\" marker-end=\"\" style=\"stroke-width: 0.5; stroke-opacity: 1; stroke: rgb(80, 80, 80);\"/><path class=\"link\" d=\"M837.3333333333333,660, 1017.3333333333333,300\" marker-end=\"\" style=\"stroke-width: 0.5; stroke-opacity: 1; stroke: rgb(80, 80, 80);\"/><path class=\"link\" d=\"M837.3333333333333,660, 1017.3333333333333,340\" marker-end=\"\" style=\"stroke-width: 0.5; stroke-opacity: 1; stroke: rgb(80, 80, 80);\"/><path class=\"link\" d=\"M837.3333333333333,660, 1017.3333333333333,380\" marker-end=\"\" style=\"stroke-width: 0.5; stroke-opacity: 1; stroke: rgb(80, 80, 80);\"/><path class=\"link\" d=\"M837.3333333333333,660, 1017.3333333333333,420\" marker-end=\"\" style=\"stroke-width: 0.5; stroke-opacity: 1; stroke: rgb(80, 80, 80);\"/><path class=\"link\" d=\"M837.3333333333333,660, 1017.3333333333333,460\" marker-end=\"\" style=\"stroke-width: 0.5; stroke-opacity: 1; stroke: rgb(80, 80, 80);\"/><path class=\"link\" d=\"M837.3333333333333,660, 1017.3333333333333,500\" marker-end=\"\" style=\"stroke-width: 0.5; stroke-opacity: 1; stroke: rgb(80, 80, 80);\"/><path class=\"link\" d=\"M837.3333333333333,660, 1017.3333333333333,540\" marker-end=\"\" style=\"stroke-width: 0.5; stroke-opacity: 1; stroke: rgb(80, 80, 80);\"/><path class=\"link\" d=\"M837.3333333333333,660, 1017.3333333333333,580\" marker-end=\"\" style=\"stroke-width: 0.5; stroke-opacity: 1; stroke: rgb(80, 80, 80);\"/><path class=\"link\" d=\"M837.3333333333333,660, 1017.3333333333333,620\" marker-end=\"\" style=\"stroke-width: 0.5; stroke-opacity: 1; stroke: rgb(80, 80, 80);\"/><path class=\"link\" d=\"M837.3333333333333,660, 1017.3333333333333,660\" marker-end=\"\" style=\"stroke-width: 0.5; stroke-opacity: 1; stroke: rgb(80, 80, 80);\"/><path class=\"link\" d=\"M1017.3333333333333,300, 1197.3333333333333,300\" marker-end=\"\" style=\"stroke-width: 0.5; stroke-opacity: 1; stroke: rgb(80, 80, 80);\"/><path class=\"link\" d=\"M1017.3333333333333,340, 1197.3333333333333,300\" marker-end=\"\" style=\"stroke-width: 0.5; stroke-opacity: 1; stroke: rgb(80, 80, 80);\"/><path class=\"link\" d=\"M1017.3333333333333,380, 1197.3333333333333,300\" marker-end=\"\" style=\"stroke-width: 0.5; stroke-opacity: 1; stroke: rgb(80, 80, 80);\"/><path class=\"link\" d=\"M1017.3333333333333,420, 1197.3333333333333,300\" marker-end=\"\" style=\"stroke-width: 0.5; stroke-opacity: 1; stroke: rgb(80, 80, 80);\"/><path class=\"link\" d=\"M1017.3333333333333,460, 1197.3333333333333,300\" marker-end=\"\" style=\"stroke-width: 0.5; stroke-opacity: 1; stroke: rgb(80, 80, 80);\"/><path class=\"link\" d=\"M1017.3333333333333,500, 1197.3333333333333,300\" marker-end=\"\" style=\"stroke-width: 0.5; stroke-opacity: 1; stroke: rgb(80, 80, 80);\"/><path class=\"link\" d=\"M1017.3333333333333,540, 1197.3333333333333,300\" marker-end=\"\" style=\"stroke-width: 0.5; stroke-opacity: 1; stroke: rgb(80, 80, 80);\"/><path class=\"link\" d=\"M1017.3333333333333,580, 1197.3333333333333,300\" marker-end=\"\" style=\"stroke-width: 0.5; stroke-opacity: 1; stroke: rgb(80, 80, 80);\"/><path class=\"link\" d=\"M1017.3333333333333,620, 1197.3333333333333,300\" marker-end=\"\" style=\"stroke-width: 0.5; stroke-opacity: 1; stroke: rgb(80, 80, 80);\"/><path class=\"link\" d=\"M1017.3333333333333,660, 1197.3333333333333,300\" marker-end=\"\" style=\"stroke-width: 0.5; stroke-opacity: 1; stroke: rgb(80, 80, 80);\"/><path class=\"link\" d=\"M1017.3333333333333,300, 1197.3333333333333,340\" marker-end=\"\" style=\"stroke-width: 0.5; stroke-opacity: 1; stroke: rgb(80, 80, 80);\"/><path class=\"link\" d=\"M1017.3333333333333,300, 1197.3333333333333,380\" marker-end=\"\" style=\"stroke-width: 0.5; stroke-opacity: 1; stroke: rgb(80, 80, 80);\"/><path class=\"link\" d=\"M1017.3333333333333,300, 1197.3333333333333,420\" marker-end=\"\" style=\"stroke-width: 0.5; stroke-opacity: 1; stroke: rgb(80, 80, 80);\"/><path class=\"link\" d=\"M1017.3333333333333,300, 1197.3333333333333,460\" marker-end=\"\" style=\"stroke-width: 0.5; stroke-opacity: 1; stroke: rgb(80, 80, 80);\"/><path class=\"link\" d=\"M1017.3333333333333,300, 1197.3333333333333,500\" marker-end=\"\" style=\"stroke-width: 0.5; stroke-opacity: 1; stroke: rgb(80, 80, 80);\"/><path class=\"link\" d=\"M1017.3333333333333,300, 1197.3333333333333,540\" marker-end=\"\" style=\"stroke-width: 0.5; stroke-opacity: 1; stroke: rgb(80, 80, 80);\"/><path class=\"link\" d=\"M1017.3333333333333,300, 1197.3333333333333,580\" marker-end=\"\" style=\"stroke-width: 0.5; stroke-opacity: 1; stroke: rgb(80, 80, 80);\"/><path class=\"link\" d=\"M1017.3333333333333,300, 1197.3333333333333,620\" marker-end=\"\" style=\"stroke-width: 0.5; stroke-opacity: 1; stroke: rgb(80, 80, 80);\"/><path class=\"link\" d=\"M1017.3333333333333,300, 1197.3333333333333,660\" marker-end=\"\" style=\"stroke-width: 0.5; stroke-opacity: 1; stroke: rgb(80, 80, 80);\"/><path class=\"link\" d=\"M1017.3333333333333,340, 1197.3333333333333,340\" marker-end=\"\" style=\"stroke-width: 0.5; stroke-opacity: 1; stroke: rgb(80, 80, 80);\"/><path class=\"link\" d=\"M1017.3333333333333,340, 1197.3333333333333,380\" marker-end=\"\" style=\"stroke-width: 0.5; stroke-opacity: 1; stroke: rgb(80, 80, 80);\"/><path class=\"link\" d=\"M1017.3333333333333,340, 1197.3333333333333,420\" marker-end=\"\" style=\"stroke-width: 0.5; stroke-opacity: 1; stroke: rgb(80, 80, 80);\"/><path class=\"link\" d=\"M1017.3333333333333,340, 1197.3333333333333,460\" marker-end=\"\" style=\"stroke-width: 0.5; stroke-opacity: 1; stroke: rgb(80, 80, 80);\"/><path class=\"link\" d=\"M1017.3333333333333,340, 1197.3333333333333,500\" marker-end=\"\" style=\"stroke-width: 0.5; stroke-opacity: 1; stroke: rgb(80, 80, 80);\"/><path class=\"link\" d=\"M1017.3333333333333,340, 1197.3333333333333,540\" marker-end=\"\" style=\"stroke-width: 0.5; stroke-opacity: 1; stroke: rgb(80, 80, 80);\"/><path class=\"link\" d=\"M1017.3333333333333,340, 1197.3333333333333,580\" marker-end=\"\" style=\"stroke-width: 0.5; stroke-opacity: 1; stroke: rgb(80, 80, 80);\"/><path class=\"link\" d=\"M1017.3333333333333,340, 1197.3333333333333,620\" marker-end=\"\" style=\"stroke-width: 0.5; stroke-opacity: 1; stroke: rgb(80, 80, 80);\"/><path class=\"link\" d=\"M1017.3333333333333,340, 1197.3333333333333,660\" marker-end=\"\" style=\"stroke-width: 0.5; stroke-opacity: 1; stroke: rgb(80, 80, 80);\"/><path class=\"link\" d=\"M1017.3333333333333,380, 1197.3333333333333,340\" marker-end=\"\" style=\"stroke-width: 0.5; stroke-opacity: 1; stroke: rgb(80, 80, 80);\"/><path class=\"link\" d=\"M1017.3333333333333,380, 1197.3333333333333,380\" marker-end=\"\" style=\"stroke-width: 0.5; stroke-opacity: 1; stroke: rgb(80, 80, 80);\"/><path class=\"link\" d=\"M1017.3333333333333,380, 1197.3333333333333,420\" marker-end=\"\" style=\"stroke-width: 0.5; stroke-opacity: 1; stroke: rgb(80, 80, 80);\"/><path class=\"link\" d=\"M1017.3333333333333,380, 1197.3333333333333,460\" marker-end=\"\" style=\"stroke-width: 0.5; stroke-opacity: 1; stroke: rgb(80, 80, 80);\"/><path class=\"link\" d=\"M1017.3333333333333,380, 1197.3333333333333,500\" marker-end=\"\" style=\"stroke-width: 0.5; stroke-opacity: 1; stroke: rgb(80, 80, 80);\"/><path class=\"link\" d=\"M1017.3333333333333,380, 1197.3333333333333,540\" marker-end=\"\" style=\"stroke-width: 0.5; stroke-opacity: 1; stroke: rgb(80, 80, 80);\"/><path class=\"link\" d=\"M1017.3333333333333,380, 1197.3333333333333,580\" marker-end=\"\" style=\"stroke-width: 0.5; stroke-opacity: 1; stroke: rgb(80, 80, 80);\"/><path class=\"link\" d=\"M1017.3333333333333,380, 1197.3333333333333,620\" marker-end=\"\" style=\"stroke-width: 0.5; stroke-opacity: 1; stroke: rgb(80, 80, 80);\"/><path class=\"link\" d=\"M1017.3333333333333,380, 1197.3333333333333,660\" marker-end=\"\" style=\"stroke-width: 0.5; stroke-opacity: 1; stroke: rgb(80, 80, 80);\"/><path class=\"link\" d=\"M1017.3333333333333,420, 1197.3333333333333,340\" marker-end=\"\" style=\"stroke-width: 0.5; stroke-opacity: 1; stroke: rgb(80, 80, 80);\"/><path class=\"link\" d=\"M1017.3333333333333,420, 1197.3333333333333,380\" marker-end=\"\" style=\"stroke-width: 0.5; stroke-opacity: 1; stroke: rgb(80, 80, 80);\"/><path class=\"link\" d=\"M1017.3333333333333,420, 1197.3333333333333,420\" marker-end=\"\" style=\"stroke-width: 0.5; stroke-opacity: 1; stroke: rgb(80, 80, 80);\"/><path class=\"link\" d=\"M1017.3333333333333,420, 1197.3333333333333,460\" marker-end=\"\" style=\"stroke-width: 0.5; stroke-opacity: 1; stroke: rgb(80, 80, 80);\"/><path class=\"link\" d=\"M1017.3333333333333,420, 1197.3333333333333,500\" marker-end=\"\" style=\"stroke-width: 0.5; stroke-opacity: 1; stroke: rgb(80, 80, 80);\"/><path class=\"link\" d=\"M1017.3333333333333,420, 1197.3333333333333,540\" marker-end=\"\" style=\"stroke-width: 0.5; stroke-opacity: 1; stroke: rgb(80, 80, 80);\"/><path class=\"link\" d=\"M1017.3333333333333,420, 1197.3333333333333,580\" marker-end=\"\" style=\"stroke-width: 0.5; stroke-opacity: 1; stroke: rgb(80, 80, 80);\"/><path class=\"link\" d=\"M1017.3333333333333,420, 1197.3333333333333,620\" marker-end=\"\" style=\"stroke-width: 0.5; stroke-opacity: 1; stroke: rgb(80, 80, 80);\"/><path class=\"link\" d=\"M1017.3333333333333,420, 1197.3333333333333,660\" marker-end=\"\" style=\"stroke-width: 0.5; stroke-opacity: 1; stroke: rgb(80, 80, 80);\"/><path class=\"link\" d=\"M1017.3333333333333,460, 1197.3333333333333,340\" marker-end=\"\" style=\"stroke-width: 0.5; stroke-opacity: 1; stroke: rgb(80, 80, 80);\"/><path class=\"link\" d=\"M1017.3333333333333,460, 1197.3333333333333,380\" marker-end=\"\" style=\"stroke-width: 0.5; stroke-opacity: 1; stroke: rgb(80, 80, 80);\"/><path class=\"link\" d=\"M1017.3333333333333,460, 1197.3333333333333,420\" marker-end=\"\" style=\"stroke-width: 0.5; stroke-opacity: 1; stroke: rgb(80, 80, 80);\"/><path class=\"link\" d=\"M1017.3333333333333,460, 1197.3333333333333,460\" marker-end=\"\" style=\"stroke-width: 0.5; stroke-opacity: 1; stroke: rgb(80, 80, 80);\"/><path class=\"link\" d=\"M1017.3333333333333,460, 1197.3333333333333,500\" marker-end=\"\" style=\"stroke-width: 0.5; stroke-opacity: 1; stroke: rgb(80, 80, 80);\"/><path class=\"link\" d=\"M1017.3333333333333,460, 1197.3333333333333,540\" marker-end=\"\" style=\"stroke-width: 0.5; stroke-opacity: 1; stroke: rgb(80, 80, 80);\"/><path class=\"link\" d=\"M1017.3333333333333,460, 1197.3333333333333,580\" marker-end=\"\" style=\"stroke-width: 0.5; stroke-opacity: 1; stroke: rgb(80, 80, 80);\"/><path class=\"link\" d=\"M1017.3333333333333,460, 1197.3333333333333,620\" marker-end=\"\" style=\"stroke-width: 0.5; stroke-opacity: 1; stroke: rgb(80, 80, 80);\"/><path class=\"link\" d=\"M1017.3333333333333,460, 1197.3333333333333,660\" marker-end=\"\" style=\"stroke-width: 0.5; stroke-opacity: 1; stroke: rgb(80, 80, 80);\"/><path class=\"link\" d=\"M1017.3333333333333,500, 1197.3333333333333,340\" marker-end=\"\" style=\"stroke-width: 0.5; stroke-opacity: 1; stroke: rgb(80, 80, 80);\"/><path class=\"link\" d=\"M1017.3333333333333,500, 1197.3333333333333,380\" marker-end=\"\" style=\"stroke-width: 0.5; stroke-opacity: 1; stroke: rgb(80, 80, 80);\"/><path class=\"link\" d=\"M1017.3333333333333,500, 1197.3333333333333,420\" marker-end=\"\" style=\"stroke-width: 0.5; stroke-opacity: 1; stroke: rgb(80, 80, 80);\"/><path class=\"link\" d=\"M1017.3333333333333,500, 1197.3333333333333,460\" marker-end=\"\" style=\"stroke-width: 0.5; stroke-opacity: 1; stroke: rgb(80, 80, 80);\"/><path class=\"link\" d=\"M1017.3333333333333,500, 1197.3333333333333,500\" marker-end=\"\" style=\"stroke-width: 0.5; stroke-opacity: 1; stroke: rgb(80, 80, 80);\"/><path class=\"link\" d=\"M1017.3333333333333,500, 1197.3333333333333,540\" marker-end=\"\" style=\"stroke-width: 0.5; stroke-opacity: 1; stroke: rgb(80, 80, 80);\"/><path class=\"link\" d=\"M1017.3333333333333,500, 1197.3333333333333,580\" marker-end=\"\" style=\"stroke-width: 0.5; stroke-opacity: 1; stroke: rgb(80, 80, 80);\"/><path class=\"link\" d=\"M1017.3333333333333,500, 1197.3333333333333,620\" marker-end=\"\" style=\"stroke-width: 0.5; stroke-opacity: 1; stroke: rgb(80, 80, 80);\"/><path class=\"link\" d=\"M1017.3333333333333,500, 1197.3333333333333,660\" marker-end=\"\" style=\"stroke-width: 0.5; stroke-opacity: 1; stroke: rgb(80, 80, 80);\"/><path class=\"link\" d=\"M1017.3333333333333,540, 1197.3333333333333,340\" marker-end=\"\" style=\"stroke-width: 0.5; stroke-opacity: 1; stroke: rgb(80, 80, 80);\"/><path class=\"link\" d=\"M1017.3333333333333,540, 1197.3333333333333,380\" marker-end=\"\" style=\"stroke-width: 0.5; stroke-opacity: 1; stroke: rgb(80, 80, 80);\"/><path class=\"link\" d=\"M1017.3333333333333,540, 1197.3333333333333,420\" marker-end=\"\" style=\"stroke-width: 0.5; stroke-opacity: 1; stroke: rgb(80, 80, 80);\"/><path class=\"link\" d=\"M1017.3333333333333,540, 1197.3333333333333,460\" marker-end=\"\" style=\"stroke-width: 0.5; stroke-opacity: 1; stroke: rgb(80, 80, 80);\"/><path class=\"link\" d=\"M1017.3333333333333,540, 1197.3333333333333,500\" marker-end=\"\" style=\"stroke-width: 0.5; stroke-opacity: 1; stroke: rgb(80, 80, 80);\"/><path class=\"link\" d=\"M1017.3333333333333,540, 1197.3333333333333,540\" marker-end=\"\" style=\"stroke-width: 0.5; stroke-opacity: 1; stroke: rgb(80, 80, 80);\"/><path class=\"link\" d=\"M1017.3333333333333,540, 1197.3333333333333,580\" marker-end=\"\" style=\"stroke-width: 0.5; stroke-opacity: 1; stroke: rgb(80, 80, 80);\"/><path class=\"link\" d=\"M1017.3333333333333,540, 1197.3333333333333,620\" marker-end=\"\" style=\"stroke-width: 0.5; stroke-opacity: 1; stroke: rgb(80, 80, 80);\"/><path class=\"link\" d=\"M1017.3333333333333,540, 1197.3333333333333,660\" marker-end=\"\" style=\"stroke-width: 0.5; stroke-opacity: 1; stroke: rgb(80, 80, 80);\"/><path class=\"link\" d=\"M1017.3333333333333,580, 1197.3333333333333,340\" marker-end=\"\" style=\"stroke-width: 0.5; stroke-opacity: 1; stroke: rgb(80, 80, 80);\"/><path class=\"link\" d=\"M1017.3333333333333,580, 1197.3333333333333,380\" marker-end=\"\" style=\"stroke-width: 0.5; stroke-opacity: 1; stroke: rgb(80, 80, 80);\"/><path class=\"link\" d=\"M1017.3333333333333,580, 1197.3333333333333,420\" marker-end=\"\" style=\"stroke-width: 0.5; stroke-opacity: 1; stroke: rgb(80, 80, 80);\"/><path class=\"link\" d=\"M1017.3333333333333,580, 1197.3333333333333,460\" marker-end=\"\" style=\"stroke-width: 0.5; stroke-opacity: 1; stroke: rgb(80, 80, 80);\"/><path class=\"link\" d=\"M1017.3333333333333,580, 1197.3333333333333,500\" marker-end=\"\" style=\"stroke-width: 0.5; stroke-opacity: 1; stroke: rgb(80, 80, 80);\"/><path class=\"link\" d=\"M1017.3333333333333,580, 1197.3333333333333,540\" marker-end=\"\" style=\"stroke-width: 0.5; stroke-opacity: 1; stroke: rgb(80, 80, 80);\"/><path class=\"link\" d=\"M1017.3333333333333,580, 1197.3333333333333,580\" marker-end=\"\" style=\"stroke-width: 0.5; stroke-opacity: 1; stroke: rgb(80, 80, 80);\"/><path class=\"link\" d=\"M1017.3333333333333,580, 1197.3333333333333,620\" marker-end=\"\" style=\"stroke-width: 0.5; stroke-opacity: 1; stroke: rgb(80, 80, 80);\"/><path class=\"link\" d=\"M1017.3333333333333,580, 1197.3333333333333,660\" marker-end=\"\" style=\"stroke-width: 0.5; stroke-opacity: 1; stroke: rgb(80, 80, 80);\"/><path class=\"link\" d=\"M1017.3333333333333,620, 1197.3333333333333,340\" marker-end=\"\" style=\"stroke-width: 0.5; stroke-opacity: 1; stroke: rgb(80, 80, 80);\"/><path class=\"link\" d=\"M1017.3333333333333,620, 1197.3333333333333,380\" marker-end=\"\" style=\"stroke-width: 0.5; stroke-opacity: 1; stroke: rgb(80, 80, 80);\"/><path class=\"link\" d=\"M1017.3333333333333,620, 1197.3333333333333,420\" marker-end=\"\" style=\"stroke-width: 0.5; stroke-opacity: 1; stroke: rgb(80, 80, 80);\"/><path class=\"link\" d=\"M1017.3333333333333,620, 1197.3333333333333,460\" marker-end=\"\" style=\"stroke-width: 0.5; stroke-opacity: 1; stroke: rgb(80, 80, 80);\"/><path class=\"link\" d=\"M1017.3333333333333,620, 1197.3333333333333,500\" marker-end=\"\" style=\"stroke-width: 0.5; stroke-opacity: 1; stroke: rgb(80, 80, 80);\"/><path class=\"link\" d=\"M1017.3333333333333,620, 1197.3333333333333,540\" marker-end=\"\" style=\"stroke-width: 0.5; stroke-opacity: 1; stroke: rgb(80, 80, 80);\"/><path class=\"link\" d=\"M1017.3333333333333,620, 1197.3333333333333,580\" marker-end=\"\" style=\"stroke-width: 0.5; stroke-opacity: 1; stroke: rgb(80, 80, 80);\"/><path class=\"link\" d=\"M1017.3333333333333,620, 1197.3333333333333,620\" marker-end=\"\" style=\"stroke-width: 0.5; stroke-opacity: 1; stroke: rgb(80, 80, 80);\"/><path class=\"link\" d=\"M1017.3333333333333,620, 1197.3333333333333,660\" marker-end=\"\" style=\"stroke-width: 0.5; stroke-opacity: 1; stroke: rgb(80, 80, 80);\"/><path class=\"link\" d=\"M1017.3333333333333,660, 1197.3333333333333,340\" marker-end=\"\" style=\"stroke-width: 0.5; stroke-opacity: 1; stroke: rgb(80, 80, 80);\"/><path class=\"link\" d=\"M1017.3333333333333,660, 1197.3333333333333,380\" marker-end=\"\" style=\"stroke-width: 0.5; stroke-opacity: 1; stroke: rgb(80, 80, 80);\"/><path class=\"link\" d=\"M1017.3333333333333,660, 1197.3333333333333,420\" marker-end=\"\" style=\"stroke-width: 0.5; stroke-opacity: 1; stroke: rgb(80, 80, 80);\"/><path class=\"link\" d=\"M1017.3333333333333,660, 1197.3333333333333,460\" marker-end=\"\" style=\"stroke-width: 0.5; stroke-opacity: 1; stroke: rgb(80, 80, 80);\"/><path class=\"link\" d=\"M1017.3333333333333,660, 1197.3333333333333,500\" marker-end=\"\" style=\"stroke-width: 0.5; stroke-opacity: 1; stroke: rgb(80, 80, 80);\"/><path class=\"link\" d=\"M1017.3333333333333,660, 1197.3333333333333,540\" marker-end=\"\" style=\"stroke-width: 0.5; stroke-opacity: 1; stroke: rgb(80, 80, 80);\"/><path class=\"link\" d=\"M1017.3333333333333,660, 1197.3333333333333,580\" marker-end=\"\" style=\"stroke-width: 0.5; stroke-opacity: 1; stroke: rgb(80, 80, 80);\"/><path class=\"link\" d=\"M1017.3333333333333,660, 1197.3333333333333,620\" marker-end=\"\" style=\"stroke-width: 0.5; stroke-opacity: 1; stroke: rgb(80, 80, 80);\"/><path class=\"link\" d=\"M1017.3333333333333,660, 1197.3333333333333,660\" marker-end=\"\" style=\"stroke-width: 0.5; stroke-opacity: 1; stroke: rgb(80, 80, 80);\"/><path class=\"link\" d=\"M1197.3333333333333,300, 1377.3333333333333,460\" marker-end=\"\" style=\"stroke-width: 0.5; stroke-opacity: 1; stroke: rgb(80, 80, 80);\"/><path class=\"link\" d=\"M1197.3333333333333,300, 1377.3333333333333,500\" marker-end=\"\" style=\"stroke-width: 0.5; stroke-opacity: 1; stroke: rgb(80, 80, 80);\"/><path class=\"link\" d=\"M1197.3333333333333,340, 1377.3333333333333,460\" marker-end=\"\" style=\"stroke-width: 0.5; stroke-opacity: 1; stroke: rgb(80, 80, 80);\"/><path class=\"link\" d=\"M1197.3333333333333,340, 1377.3333333333333,500\" marker-end=\"\" style=\"stroke-width: 0.5; stroke-opacity: 1; stroke: rgb(80, 80, 80);\"/><path class=\"link\" d=\"M1197.3333333333333,380, 1377.3333333333333,460\" marker-end=\"\" style=\"stroke-width: 0.5; stroke-opacity: 1; stroke: rgb(80, 80, 80);\"/><path class=\"link\" d=\"M1197.3333333333333,380, 1377.3333333333333,500\" marker-end=\"\" style=\"stroke-width: 0.5; stroke-opacity: 1; stroke: rgb(80, 80, 80);\"/><path class=\"link\" d=\"M1197.3333333333333,420, 1377.3333333333333,460\" marker-end=\"\" style=\"stroke-width: 0.5; stroke-opacity: 1; stroke: rgb(80, 80, 80);\"/><path class=\"link\" d=\"M1197.3333333333333,420, 1377.3333333333333,500\" marker-end=\"\" style=\"stroke-width: 0.5; stroke-opacity: 1; stroke: rgb(80, 80, 80);\"/><path class=\"link\" d=\"M1197.3333333333333,460, 1377.3333333333333,460\" marker-end=\"\" style=\"stroke-width: 0.5; stroke-opacity: 1; stroke: rgb(80, 80, 80);\"/><path class=\"link\" d=\"M1197.3333333333333,460, 1377.3333333333333,500\" marker-end=\"\" style=\"stroke-width: 0.5; stroke-opacity: 1; stroke: rgb(80, 80, 80);\"/><path class=\"link\" d=\"M1197.3333333333333,500, 1377.3333333333333,460\" marker-end=\"\" style=\"stroke-width: 0.5; stroke-opacity: 1; stroke: rgb(80, 80, 80);\"/><path class=\"link\" d=\"M1197.3333333333333,500, 1377.3333333333333,500\" marker-end=\"\" style=\"stroke-width: 0.5; stroke-opacity: 1; stroke: rgb(80, 80, 80);\"/><path class=\"link\" d=\"M1197.3333333333333,540, 1377.3333333333333,460\" marker-end=\"\" style=\"stroke-width: 0.5; stroke-opacity: 1; stroke: rgb(80, 80, 80);\"/><path class=\"link\" d=\"M1197.3333333333333,540, 1377.3333333333333,500\" marker-end=\"\" style=\"stroke-width: 0.5; stroke-opacity: 1; stroke: rgb(80, 80, 80);\"/><path class=\"link\" d=\"M1197.3333333333333,580, 1377.3333333333333,460\" marker-end=\"\" style=\"stroke-width: 0.5; stroke-opacity: 1; stroke: rgb(80, 80, 80);\"/><path class=\"link\" d=\"M1197.3333333333333,580, 1377.3333333333333,500\" marker-end=\"\" style=\"stroke-width: 0.5; stroke-opacity: 1; stroke: rgb(80, 80, 80);\"/><path class=\"link\" d=\"M1197.3333333333333,620, 1377.3333333333333,460\" marker-end=\"\" style=\"stroke-width: 0.5; stroke-opacity: 1; stroke: rgb(80, 80, 80);\"/><path class=\"link\" d=\"M1197.3333333333333,620, 1377.3333333333333,500\" marker-end=\"\" style=\"stroke-width: 0.5; stroke-opacity: 1; stroke: rgb(80, 80, 80);\"/><path class=\"link\" d=\"M1197.3333333333333,660, 1377.3333333333333,460\" marker-end=\"\" style=\"stroke-width: 0.5; stroke-opacity: 1; stroke: rgb(80, 80, 80);\"/><path class=\"link\" d=\"M1197.3333333333333,660, 1377.3333333333333,500\" marker-end=\"\" style=\"stroke-width: 0.5; stroke-opacity: 1; stroke: rgb(80, 80, 80);\"/><circle class=\"node\" cx=\"657.3333333333333\" cy=\"400\" id=\"0_0\" r=\"10\" style=\"fill: rgb(255, 255, 255); stroke: rgb(51, 51, 51);\"/><circle class=\"node\" cx=\"657.3333333333333\" cy=\"440\" id=\"0_1\" r=\"10\" style=\"fill: rgb(255, 255, 255); stroke: rgb(51, 51, 51);\"/><circle class=\"node\" cx=\"657.3333333333333\" cy=\"480\" id=\"0_2\" r=\"10\" style=\"fill: rgb(255, 255, 255); stroke: rgb(51, 51, 51);\"/><circle class=\"node\" cx=\"657.3333333333333\" cy=\"520\" id=\"0_3\" r=\"10\" style=\"fill: rgb(255, 255, 255); stroke: rgb(51, 51, 51);\"/><circle class=\"node\" cx=\"657.3333333333333\" cy=\"560\" id=\"0_4\" r=\"10\" style=\"fill: rgb(255, 255, 255); stroke: rgb(51, 51, 51);\"/><circle class=\"node\" cx=\"837.3333333333333\" cy=\"300\" id=\"1_0\" r=\"10\" style=\"fill: rgb(255, 255, 255); stroke: rgb(51, 51, 51);\"/><circle class=\"node\" cx=\"837.3333333333333\" cy=\"340\" id=\"1_1\" r=\"10\" style=\"fill: rgb(255, 255, 255); stroke: rgb(51, 51, 51);\"/><circle class=\"node\" cx=\"837.3333333333333\" cy=\"380\" id=\"1_2\" r=\"10\" style=\"fill: rgb(255, 255, 255); stroke: rgb(51, 51, 51);\"/><circle class=\"node\" cx=\"837.3333333333333\" cy=\"420\" id=\"1_3\" r=\"10\" style=\"fill: rgb(255, 255, 255); stroke: rgb(51, 51, 51);\"/><circle class=\"node\" cx=\"837.3333333333333\" cy=\"460\" id=\"1_4\" r=\"10\" style=\"fill: rgb(255, 255, 255); stroke: rgb(51, 51, 51);\"/><circle class=\"node\" cx=\"837.3333333333333\" cy=\"500\" id=\"1_5\" r=\"10\" style=\"fill: rgb(255, 255, 255); stroke: rgb(51, 51, 51);\"/><circle class=\"node\" cx=\"837.3333333333333\" cy=\"540\" id=\"1_6\" r=\"10\" style=\"fill: rgb(255, 255, 255); stroke: rgb(51, 51, 51);\"/><circle class=\"node\" cx=\"837.3333333333333\" cy=\"580\" id=\"1_7\" r=\"10\" style=\"fill: rgb(255, 255, 255); stroke: rgb(51, 51, 51);\"/><circle class=\"node\" cx=\"837.3333333333333\" cy=\"620\" id=\"1_8\" r=\"10\" style=\"fill: rgb(255, 255, 255); stroke: rgb(51, 51, 51);\"/><circle class=\"node\" cx=\"837.3333333333333\" cy=\"660\" id=\"1_9\" r=\"10\" style=\"fill: rgb(255, 255, 255); stroke: rgb(51, 51, 51);\"/><circle class=\"node\" cx=\"1017.3333333333333\" cy=\"300\" id=\"2_0\" r=\"10\" style=\"fill: rgb(255, 255, 255); stroke: rgb(51, 51, 51);\"/><circle class=\"node\" cx=\"1017.3333333333333\" cy=\"340\" id=\"2_1\" r=\"10\" style=\"fill: rgb(255, 255, 255); stroke: rgb(51, 51, 51);\"/><circle class=\"node\" cx=\"1017.3333333333333\" cy=\"380\" id=\"2_2\" r=\"10\" style=\"fill: rgb(255, 255, 255); stroke: rgb(51, 51, 51);\"/><circle class=\"node\" cx=\"1017.3333333333333\" cy=\"420\" id=\"2_3\" r=\"10\" style=\"fill: rgb(255, 255, 255); stroke: rgb(51, 51, 51);\"/><circle class=\"node\" cx=\"1017.3333333333333\" cy=\"460\" id=\"2_4\" r=\"10\" style=\"fill: rgb(255, 255, 255); stroke: rgb(51, 51, 51);\"/><circle class=\"node\" cx=\"1017.3333333333333\" cy=\"500\" id=\"2_5\" r=\"10\" style=\"fill: rgb(255, 255, 255); stroke: rgb(51, 51, 51);\"/><circle class=\"node\" cx=\"1017.3333333333333\" cy=\"540\" id=\"2_6\" r=\"10\" style=\"fill: rgb(255, 255, 255); stroke: rgb(51, 51, 51);\"/><circle class=\"node\" cx=\"1017.3333333333333\" cy=\"580\" id=\"2_7\" r=\"10\" style=\"fill: rgb(255, 255, 255); stroke: rgb(51, 51, 51);\"/><circle class=\"node\" cx=\"1017.3333333333333\" cy=\"620\" id=\"2_8\" r=\"10\" style=\"fill: rgb(255, 255, 255); stroke: rgb(51, 51, 51);\"/><circle class=\"node\" cx=\"1017.3333333333333\" cy=\"660\" id=\"2_9\" r=\"10\" style=\"fill: rgb(255, 255, 255); stroke: rgb(51, 51, 51);\"/><circle class=\"node\" cx=\"1197.3333333333333\" cy=\"300\" id=\"3_0\" r=\"10\" style=\"fill: rgb(255, 255, 255); stroke: rgb(51, 51, 51);\"/><text class=\"text\" dy=\".35em\" style=\"font-size: 12px;\" x=\"622.3333333333333\" y=\"700\">Input Layer ∈ ℝ⁵</text><text class=\"text\" dy=\".35em\" style=\"font-size: 12px;\" x=\"802.3333333333333\" y=\"700\">Hidden Layer ∈ ℝ¹⁰</text><text class=\"text\" dy=\".35em\" style=\"font-size: 12px;\" x=\"982.3333333333333\" y=\"700\">Hidden Layer ∈ ℝ¹⁰</text><text class=\"text\" dy=\".35em\" style=\"font-size: 12px;\" x=\"1162.3333333333333\" y=\"700\">Hidden Layer ∈ ℝ¹⁰</text><circle class=\"node\" cx=\"1197.3333333333333\" cy=\"340\" id=\"3_1\" r=\"10\" style=\"fill: rgb(255, 255, 255); stroke: rgb(51, 51, 51);\"/><circle class=\"node\" cx=\"1197.3333333333333\" cy=\"380\" id=\"3_2\" r=\"10\" style=\"fill: rgb(255, 255, 255); stroke: rgb(51, 51, 51);\"/><circle class=\"node\" cx=\"1197.3333333333333\" cy=\"420\" id=\"3_3\" r=\"10\" style=\"fill: rgb(255, 255, 255); stroke: rgb(51, 51, 51);\"/><circle class=\"node\" cx=\"1197.3333333333333\" cy=\"460\" id=\"3_4\" r=\"10\" style=\"fill: rgb(255, 255, 255); stroke: rgb(51, 51, 51);\"/><circle class=\"node\" cx=\"1197.3333333333333\" cy=\"500\" id=\"3_5\" r=\"10\" style=\"fill: rgb(255, 255, 255); stroke: rgb(51, 51, 51);\"/><circle class=\"node\" cx=\"1197.3333333333333\" cy=\"540\" id=\"3_6\" r=\"10\" style=\"fill: rgb(255, 255, 255); stroke: rgb(51, 51, 51);\"/><circle class=\"node\" cx=\"1197.3333333333333\" cy=\"580\" id=\"3_7\" r=\"10\" style=\"fill: rgb(255, 255, 255); stroke: rgb(51, 51, 51);\"/><circle class=\"node\" cx=\"1197.3333333333333\" cy=\"620\" id=\"3_8\" r=\"10\" style=\"fill: rgb(255, 255, 255); stroke: rgb(51, 51, 51);\"/><circle class=\"node\" cx=\"1197.3333333333333\" cy=\"660\" id=\"3_9\" r=\"10\" style=\"fill: rgb(255, 255, 255); stroke: rgb(51, 51, 51);\"/><circle class=\"node\" cx=\"1377.3333333333333\" cy=\"460\" id=\"4_0\" r=\"10\" style=\"fill: rgb(255, 255, 255); stroke: rgb(51, 51, 51);\"/><circle class=\"node\" cx=\"1377.3333333333333\" cy=\"500\" id=\"4_1\" r=\"10\" style=\"fill: rgb(255, 255, 255); stroke: rgb(51, 51, 51);\"/><text class=\"text\" dy=\".35em\" style=\"font-size: 12px;\" x=\"1342.3333333333333\" y=\"700\">Output Layer ∈ ℝ²</text></g><defs><marker id=\"arrow\" markerHeight=\"7\" markerWidth=\"7\" orient=\"auto\" refX=\"40\" viewBox=\"0 -5 10 10\"><path d=\"M0,-5L10,0L0,5\" style=\"stroke: rgb(80, 80, 80); fill: none;\"/></marker></defs></svg>"
      ],
      "text/plain": [
       "<IPython.core.display.SVG object>"
      ]
     },
     "execution_count": 44,
     "metadata": {},
     "output_type": "execute_result"
    }
   ],
   "source": [
    "### Definition of network model\n",
    "# 1 input layer - 100 input unit\n",
    "# 3 hidden layer (customized size)\n",
    "# 1 output layer - 2 unit (binary classification)\n",
    "\n",
    "## below is a visualization of a smaller scaled FFNN\n",
    "from IPython.core.display import SVG\n",
    "SVG(filename='nn.svg')"
   ]
  },
  {
   "cell_type": "code",
   "execution_count": 30,
   "metadata": {},
   "outputs": [],
   "source": [
    "class FeedforwardNeuralNetModel(nn.Module):\n",
    "    def __init__(self, input_dim, hidden_dim, output_dim):\n",
    "        super(FeedforwardNeuralNetModel, self).__init__()\n",
    "        self.fc1 = nn.Linear(input_dim, hidden_dim) \n",
    "        self.relu1 = nn.ReLU()\n",
    "        self.fc2 = nn.Linear(hidden_dim, hidden_dim)\n",
    "        self.relu2 = nn.ReLU()\n",
    "        self.fc3 = nn.Linear(hidden_dim, hidden_dim)\n",
    "        self.relu3 = nn.ReLU()\n",
    "        self.fc4 = nn.Linear(hidden_dim, output_dim)  \n",
    "        \n",
    "        \n",
    "        # Define batch norm\n",
    "        #self.batch_norm = nn.BatchNorm1d(hidden_dim)\n",
    "\n",
    "        # Define proportion or neurons to dropout\n",
    "        #self.dropout = nn.Dropout(0.2)\n",
    "\n",
    "\n",
    "    def forward(self, x):\n",
    "        out = self.fc1(x)\n",
    "        out = self.relu1(out)\n",
    "        out = self.fc2(out)\n",
    "        out = self.relu2(out)\n",
    "        out = self.fc3(out)\n",
    "        out = self.relu3(out)\n",
    "        out = self.fc4(out)\n",
    "        return out"
   ]
  },
  {
   "cell_type": "code",
   "execution_count": 41,
   "metadata": {},
   "outputs": [],
   "source": [
    "input_dim = 100\n",
    "hidden_dim = 200\n",
    "output_dim = 2\n",
    "\n",
    "model = FeedforwardNeuralNetModel(input_dim, hidden_dim, output_dim)\n",
    "learning_rate = 0.01\n",
    "\n",
    "optimizer = torch.optim.SGD(model.parameters(), lr=learning_rate) \n",
    "criterion = nn.CrossEntropyLoss()"
   ]
  },
  {
   "cell_type": "code",
   "execution_count": 42,
   "metadata": {},
   "outputs": [],
   "source": [
    "device = torch.device(\"cpu\")#(\"cuda:0\" if torch.cuda.is_available() else \"cpu\")\n",
    "model = model.to(device)"
   ]
  },
  {
   "cell_type": "code",
   "execution_count": 43,
   "metadata": {},
   "outputs": [
    {
     "name": "stderr",
     "output_type": "stream",
     "text": [
      "/scratch2/hle/py3_env/lib/python3.7/site-packages/ipykernel_launcher.py:5: UserWarning: To copy construct from a tensor, it is recommended to use sourceTensor.clone().detach() or sourceTensor.clone().detach().requires_grad_(True), rather than torch.tensor(sourceTensor).\n",
      "  \"\"\"\n",
      "/scratch2/hle/py3_env/lib/python3.7/site-packages/ipykernel_launcher.py:33: UserWarning: To copy construct from a tensor, it is recommended to use sourceTensor.clone().detach() or sourceTensor.clone().detach().requires_grad_(True), rather than torch.tensor(sourceTensor).\n"
     ]
    },
    {
     "name": "stdout",
     "output_type": "stream",
     "text": [
      "Iteration: 500. Loss: 0.6126779317855835. Accuracy: 69.4125\n",
      "Iteration: 1000. Loss: 0.48222407698631287. Accuracy: 83.9685\n",
      "Iteration: 1500. Loss: 0.3443305492401123. Accuracy: 90.429\n",
      "Iteration: 2000. Loss: 0.3136032223701477. Accuracy: 95.298\n",
      "Iteration: 2500. Loss: 0.12424015253782272. Accuracy: 96.394\n",
      "Iteration: 3000. Loss: 0.16351869702339172. Accuracy: 97.0285\n",
      "Iteration: 3500. Loss: 0.08188510686159134. Accuracy: 97.347\n",
      "Iteration: 4000. Loss: 0.1211736872792244. Accuracy: 97.5315\n",
      "Iteration: 4500. Loss: 0.21857866644859314. Accuracy: 97.659\n",
      "Iteration: 5000. Loss: 0.03125850856304169. Accuracy: 97.776\n",
      "Iteration: 5500. Loss: 0.036842238157987595. Accuracy: 97.832\n",
      "Iteration: 6000. Loss: 0.12101670354604721. Accuracy: 97.917\n",
      "Iteration: 6500. Loss: 0.06471139192581177. Accuracy: 97.9405\n",
      "Iteration: 7000. Loss: 0.07689313590526581. Accuracy: 97.993\n",
      "Iteration: 7500. Loss: 0.01925298199057579. Accuracy: 98.012\n",
      "Iteration: 8000. Loss: 0.06220601126551628. Accuracy: 98.074\n",
      "Iteration: 8500. Loss: 0.1087556853890419. Accuracy: 98.0395\n",
      "Iteration: 9000. Loss: 0.2970149517059326. Accuracy: 98.1185\n",
      "Iteration: 9500. Loss: 0.11838797479867935. Accuracy: 98.13\n",
      "Iteration: 10000. Loss: 0.05865795165300369. Accuracy: 98.178\n",
      "Iteration: 10500. Loss: 0.06985759735107422. Accuracy: 98.1045\n",
      "Iteration: 11000. Loss: 0.14185619354248047. Accuracy: 98.2315\n",
      "Iteration: 11500. Loss: 0.02058464102447033. Accuracy: 98.2475\n",
      "Iteration: 12000. Loss: 0.11298921704292297. Accuracy: 98.238\n",
      "Iteration: 12500. Loss: 0.03119444102048874. Accuracy: 98.146\n",
      "Iteration: 13000. Loss: 0.050672274082899094. Accuracy: 98.2965\n",
      "Iteration: 13500. Loss: 0.08666787296533585. Accuracy: 98.308\n",
      "Iteration: 14000. Loss: 0.006678061094135046. Accuracy: 98.292\n",
      "Iteration: 14500. Loss: 0.06881368905305862. Accuracy: 98.304\n",
      "Iteration: 15000. Loss: 0.11016584187746048. Accuracy: 98.3115\n",
      "Iteration: 15500. Loss: 0.021064629778265953. Accuracy: 98.2955\n",
      "Iteration: 16000. Loss: 0.03738433122634888. Accuracy: 98.3545\n"
     ]
    }
   ],
   "source": [
    "iter = 0\n",
    "\n",
    "for epoch in range(num_epochs):\n",
    "    for i, (inputs, labels) in enumerate(train_loader):\n",
    "        inputs = torch.tensor(inputs).requires_grad_()\n",
    "        inputs = inputs.to(device)\n",
    "        # Load images with gradient accumulation capabilities\n",
    "        #images = images.view(-1, 28*28).requires_grad_()\n",
    "        labels = labels.to(device)\n",
    "        # Clear gradients w.r.t. parameters\n",
    "        optimizer.zero_grad()\n",
    "\n",
    "        # Forward pass to get output/logits\n",
    "        outputs = model(inputs)\n",
    "\n",
    "        # Calculate Loss: softmax --> cross entropy loss\n",
    "        loss = criterion(outputs, labels)\n",
    "\n",
    "        # Getting gradients w.r.t. parameters\n",
    "        loss.backward()\n",
    "\n",
    "        # Updating parameters\n",
    "        optimizer.step()\n",
    "\n",
    "        iter += 1\n",
    "\n",
    "        if iter % 500 == 0:\n",
    "            # Calculate Accuracy         \n",
    "            correct = 0\n",
    "            total = 0\n",
    "            # Iterate through test dataset\n",
    "            for inputs, labels in test_loader:\n",
    "                inputs = torch.tensor(inputs).requires_grad_()\n",
    "                inputs = inputs.to(device)\n",
    "                # Load images with gradient accumulation capabilities\n",
    "                #images = images.view(-1, 28*28).requires_grad_()\n",
    "                labels = labels.to(device)\n",
    "                # Forward pass only to get logits/output\n",
    "                outputs = model(inputs)\n",
    "\n",
    "                # Get predictions from the maximum value\n",
    "                _, predicted = torch.max(outputs.data, 1)\n",
    "\n",
    "                # Total number of labels\n",
    "                total += labels.size(0)\n",
    "\n",
    "                # Total correct predictions\n",
    "                correct += (predicted == labels).sum()\n",
    "\n",
    "            accuracy = 100 * float(correct) / float(total)\n",
    "\n",
    "            # Print Loss\n",
    "            print('Iteration: {}. Loss: {}. Accuracy: {}'.format(iter, loss.item(), accuracy))\n"
   ]
  },
  {
   "cell_type": "code",
   "execution_count": null,
   "metadata": {},
   "outputs": [],
   "source": []
  }
 ],
 "metadata": {
  "kernelspec": {
   "display_name": "Python 3",
   "language": "python",
   "name": "python3"
  },
  "language_info": {
   "codemirror_mode": {
    "name": "ipython",
    "version": 3
   },
   "file_extension": ".py",
   "mimetype": "text/x-python",
   "name": "python",
   "nbconvert_exporter": "python",
   "pygments_lexer": "ipython3",
   "version": "3.7.6"
  }
 },
 "nbformat": 4,
 "nbformat_minor": 2
}
